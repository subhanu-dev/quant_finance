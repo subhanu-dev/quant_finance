{
 "cells": [
  {
   "cell_type": "markdown",
   "id": "1698359c",
   "metadata": {},
   "source": [
    "## Strategy Backtesting for Trading Sampath Stock"
   ]
  },
  {
   "cell_type": "code",
   "execution_count": null,
   "id": "3d86387d",
   "metadata": {
    "vscode": {
     "languageId": "plaintext"
    }
   },
   "outputs": [],
   "source": []
  }
 ],
 "metadata": {
  "language_info": {
   "name": "python"
  }
 },
 "nbformat": 4,
 "nbformat_minor": 5
}
